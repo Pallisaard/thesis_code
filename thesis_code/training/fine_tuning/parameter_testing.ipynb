{
 "cells": [
  {
   "cell_type": "markdown",
   "metadata": {},
   "source": [
    "# Parameter testing"
   ]
  },
  {
   "cell_type": "code",
   "execution_count": 8,
   "metadata": {},
   "outputs": [],
   "source": [
    "import numpy as np\n",
    "from opacus.accountants import RDPAccountant"
   ]
  },
  {
   "cell_type": "code",
   "execution_count": 36,
   "metadata": {},
   "outputs": [
    {
     "data": {
      "text/plain": [
       "array([[1.e-03, 1.e+00, 1.e+00],\n",
       "       [1.e-05, 1.e+00, 1.e+00],\n",
       "       [1.e-07, 1.e+00, 1.e+00],\n",
       "       [1.e-03, 2.e+00, 1.e+00],\n",
       "       [1.e-03, 5.e+00, 1.e+00],\n",
       "       [1.e-03, 1.e+00, 2.e+00],\n",
       "       [1.e-03, 1.e+00, 5.e+00]])"
      ]
     },
     "execution_count": 36,
     "metadata": {},
     "output_type": "execute_result"
    }
   ],
   "source": [
    "parameter_info = {\"delta\": [], \"sigma\": [], \"c\": [], \"n_steps\": [], \"epsilon\": []}\n",
    "\n",
    "sample_rate = 1 / 428\n",
    "deltas = [1e-3, 1e-5, 1e-7]\n",
    "sigmas = [1.0, 2.0, 5.0]\n",
    "cs = [1.0, 2.0, 5.0]\n",
    "\n",
    "setups = np.concatenate((\n",
    "    np.array([deltas, [sigmas[0] for i in range(3)], [cs[0] for i in range(3)]]).T,\n",
    "    np.array([[deltas[0] for i in range(2)], sigmas[1:], [cs[0] for i in range(2)]]).T,\n",
    "    np.array([[deltas[0] for i in range(2)], [sigmas[0] for i in range(2)], cs[1:]]).T\n",
    "))\n",
    "setups"
   ]
  },
  {
   "cell_type": "code",
   "execution_count": 38,
   "metadata": {},
   "outputs": [
    {
     "name": "stdout",
     "output_type": "stream",
     "text": [
      "Delta: 0.001, Sigma: 1.0, C: 1.0\n"
     ]
    },
    {
     "ename": "KeyboardInterrupt",
     "evalue": "",
     "output_type": "error",
     "traceback": [
      "\u001b[0;31m---------------------------------------------------------------------------\u001b[0m",
      "\u001b[0;31mKeyboardInterrupt\u001b[0m                         Traceback (most recent call last)",
      "Cell \u001b[0;32mIn[38], line 10\u001b[0m\n\u001b[1;32m      8\u001b[0m \u001b[38;5;28;01mwhile\u001b[39;00m epsilon \u001b[38;5;241m<\u001b[39m \u001b[38;5;241m2\u001b[39m:\n\u001b[1;32m      9\u001b[0m     accountant\u001b[38;5;241m.\u001b[39mstep(noise_multiplier\u001b[38;5;241m=\u001b[39mnoise_multiplier, sample_rate\u001b[38;5;241m=\u001b[39msample_rate)\n\u001b[0;32m---> 10\u001b[0m     epsilon \u001b[38;5;241m=\u001b[39m \u001b[43maccountant\u001b[49m\u001b[38;5;241;43m.\u001b[39;49m\u001b[43mget_epsilon\u001b[49m\u001b[43m(\u001b[49m\u001b[43mdelta\u001b[49m\u001b[43m)\u001b[49m\n\u001b[1;32m     11\u001b[0m     n_steps \u001b[38;5;241m+\u001b[39m\u001b[38;5;241m=\u001b[39m \u001b[38;5;241m1\u001b[39m\n\u001b[1;32m     13\u001b[0m parameter_info[\u001b[38;5;124m\"\u001b[39m\u001b[38;5;124mdelta\u001b[39m\u001b[38;5;124m\"\u001b[39m]\u001b[38;5;241m.\u001b[39mappend(delta)\n",
      "File \u001b[0;32m~/Developer/skole/thesis_code/.venv/lib/python3.12/site-packages/opacus/accountants/rdp.py:81\u001b[0m, in \u001b[0;36mRDPAccountant.get_epsilon\u001b[0;34m(self, delta, alphas)\u001b[0m\n\u001b[1;32m     70\u001b[0m \u001b[38;5;28;01mdef\u001b[39;00m \u001b[38;5;21mget_epsilon\u001b[39m(\n\u001b[1;32m     71\u001b[0m     \u001b[38;5;28mself\u001b[39m, delta: \u001b[38;5;28mfloat\u001b[39m, alphas: Optional[List[Union[\u001b[38;5;28mfloat\u001b[39m, \u001b[38;5;28mint\u001b[39m]]] \u001b[38;5;241m=\u001b[39m \u001b[38;5;28;01mNone\u001b[39;00m\n\u001b[1;32m     72\u001b[0m ):\n\u001b[1;32m     73\u001b[0m \u001b[38;5;250m    \u001b[39m\u001b[38;5;124;03m\"\"\"\u001b[39;00m\n\u001b[1;32m     74\u001b[0m \u001b[38;5;124;03m    Return privacy budget (epsilon) expended so far.\u001b[39;00m\n\u001b[1;32m     75\u001b[0m \n\u001b[0;32m   (...)\u001b[0m\n\u001b[1;32m     79\u001b[0m \u001b[38;5;124;03m            between RDP and (epd, delta)-DP\u001b[39;00m\n\u001b[1;32m     80\u001b[0m \u001b[38;5;124;03m    \"\"\"\u001b[39;00m\n\u001b[0;32m---> 81\u001b[0m     eps, _ \u001b[38;5;241m=\u001b[39m \u001b[38;5;28;43mself\u001b[39;49m\u001b[38;5;241;43m.\u001b[39;49m\u001b[43mget_privacy_spent\u001b[49m\u001b[43m(\u001b[49m\u001b[43mdelta\u001b[49m\u001b[38;5;241;43m=\u001b[39;49m\u001b[43mdelta\u001b[49m\u001b[43m,\u001b[49m\u001b[43m \u001b[49m\u001b[43malphas\u001b[49m\u001b[38;5;241;43m=\u001b[39;49m\u001b[43malphas\u001b[49m\u001b[43m)\u001b[49m\n\u001b[1;32m     82\u001b[0m     \u001b[38;5;28;01mreturn\u001b[39;00m eps\n",
      "File \u001b[0;32m~/Developer/skole/thesis_code/.venv/lib/python3.12/site-packages/opacus/accountants/rdp.py:56\u001b[0m, in \u001b[0;36mRDPAccountant.get_privacy_spent\u001b[0;34m(self, delta, alphas)\u001b[0m\n\u001b[1;32m     52\u001b[0m \u001b[38;5;28;01mif\u001b[39;00m alphas \u001b[38;5;129;01mis\u001b[39;00m \u001b[38;5;28;01mNone\u001b[39;00m:\n\u001b[1;32m     53\u001b[0m     alphas \u001b[38;5;241m=\u001b[39m \u001b[38;5;28mself\u001b[39m\u001b[38;5;241m.\u001b[39mDEFAULT_ALPHAS\n\u001b[1;32m     54\u001b[0m rdp \u001b[38;5;241m=\u001b[39m \u001b[38;5;28msum\u001b[39m(\n\u001b[1;32m     55\u001b[0m     [\n\u001b[0;32m---> 56\u001b[0m         \u001b[43mprivacy_analysis\u001b[49m\u001b[38;5;241;43m.\u001b[39;49m\u001b[43mcompute_rdp\u001b[49m\u001b[43m(\u001b[49m\n\u001b[1;32m     57\u001b[0m \u001b[43m            \u001b[49m\u001b[43mq\u001b[49m\u001b[38;5;241;43m=\u001b[39;49m\u001b[43msample_rate\u001b[49m\u001b[43m,\u001b[49m\n\u001b[1;32m     58\u001b[0m \u001b[43m            \u001b[49m\u001b[43mnoise_multiplier\u001b[49m\u001b[38;5;241;43m=\u001b[39;49m\u001b[43mnoise_multiplier\u001b[49m\u001b[43m,\u001b[49m\n\u001b[1;32m     59\u001b[0m \u001b[43m            \u001b[49m\u001b[43msteps\u001b[49m\u001b[38;5;241;43m=\u001b[39;49m\u001b[43mnum_steps\u001b[49m\u001b[43m,\u001b[49m\n\u001b[1;32m     60\u001b[0m \u001b[43m            \u001b[49m\u001b[43morders\u001b[49m\u001b[38;5;241;43m=\u001b[39;49m\u001b[43malphas\u001b[49m\u001b[43m,\u001b[49m\n\u001b[1;32m     61\u001b[0m \u001b[43m        \u001b[49m\u001b[43m)\u001b[49m\n\u001b[1;32m     62\u001b[0m         \u001b[38;5;28;01mfor\u001b[39;00m (noise_multiplier, sample_rate, num_steps) \u001b[38;5;129;01min\u001b[39;00m \u001b[38;5;28mself\u001b[39m\u001b[38;5;241m.\u001b[39mhistory\n\u001b[1;32m     63\u001b[0m     ]\n\u001b[1;32m     64\u001b[0m )\n\u001b[1;32m     65\u001b[0m eps, best_alpha \u001b[38;5;241m=\u001b[39m privacy_analysis\u001b[38;5;241m.\u001b[39mget_privacy_spent(\n\u001b[1;32m     66\u001b[0m     orders\u001b[38;5;241m=\u001b[39malphas, rdp\u001b[38;5;241m=\u001b[39mrdp, delta\u001b[38;5;241m=\u001b[39mdelta\n\u001b[1;32m     67\u001b[0m )\n\u001b[1;32m     68\u001b[0m \u001b[38;5;28;01mreturn\u001b[39;00m \u001b[38;5;28mfloat\u001b[39m(eps), \u001b[38;5;28mfloat\u001b[39m(best_alpha)\n",
      "File \u001b[0;32m~/Developer/skole/thesis_code/.venv/lib/python3.12/site-packages/opacus/accountants/analysis/rdp.py:284\u001b[0m, in \u001b[0;36mcompute_rdp\u001b[0;34m(q, noise_multiplier, steps, orders)\u001b[0m\n\u001b[1;32m    282\u001b[0m     rdp \u001b[38;5;241m=\u001b[39m _compute_rdp(q, noise_multiplier, orders)\n\u001b[1;32m    283\u001b[0m \u001b[38;5;28;01melse\u001b[39;00m:\n\u001b[0;32m--> 284\u001b[0m     rdp \u001b[38;5;241m=\u001b[39m np\u001b[38;5;241m.\u001b[39marray([\u001b[43m_compute_rdp\u001b[49m\u001b[43m(\u001b[49m\u001b[43mq\u001b[49m\u001b[43m,\u001b[49m\u001b[43m \u001b[49m\u001b[43mnoise_multiplier\u001b[49m\u001b[43m,\u001b[49m\u001b[43m \u001b[49m\u001b[43morder\u001b[49m\u001b[43m)\u001b[49m \u001b[38;5;28;01mfor\u001b[39;00m order \u001b[38;5;129;01min\u001b[39;00m orders])\n\u001b[1;32m    286\u001b[0m \u001b[38;5;28;01mreturn\u001b[39;00m rdp \u001b[38;5;241m*\u001b[39m steps\n",
      "File \u001b[0;32m~/Developer/skole/thesis_code/.venv/lib/python3.12/site-packages/opacus/accountants/analysis/rdp.py:259\u001b[0m, in \u001b[0;36m_compute_rdp\u001b[0;34m(q, sigma, alpha)\u001b[0m\n\u001b[1;32m    256\u001b[0m \u001b[38;5;28;01mif\u001b[39;00m np\u001b[38;5;241m.\u001b[39misinf(alpha):\n\u001b[1;32m    257\u001b[0m     \u001b[38;5;28;01mreturn\u001b[39;00m np\u001b[38;5;241m.\u001b[39minf\n\u001b[0;32m--> 259\u001b[0m \u001b[38;5;28;01mreturn\u001b[39;00m \u001b[43m_compute_log_a\u001b[49m\u001b[43m(\u001b[49m\u001b[43mq\u001b[49m\u001b[43m,\u001b[49m\u001b[43m \u001b[49m\u001b[43msigma\u001b[49m\u001b[43m,\u001b[49m\u001b[43m \u001b[49m\u001b[43malpha\u001b[49m\u001b[43m)\u001b[49m \u001b[38;5;241m/\u001b[39m (alpha \u001b[38;5;241m-\u001b[39m \u001b[38;5;241m1\u001b[39m)\n",
      "File \u001b[0;32m~/Developer/skole/thesis_code/.venv/lib/python3.12/site-packages/opacus/accountants/analysis/rdp.py:217\u001b[0m, in \u001b[0;36m_compute_log_a\u001b[0;34m(q, sigma, alpha)\u001b[0m\n\u001b[1;32m    215\u001b[0m     \u001b[38;5;28;01mreturn\u001b[39;00m _compute_log_a_for_int_alpha(q, sigma, \u001b[38;5;28mint\u001b[39m(alpha))\n\u001b[1;32m    216\u001b[0m \u001b[38;5;28;01melse\u001b[39;00m:\n\u001b[0;32m--> 217\u001b[0m     \u001b[38;5;28;01mreturn\u001b[39;00m \u001b[43m_compute_log_a_for_frac_alpha\u001b[49m\u001b[43m(\u001b[49m\u001b[43mq\u001b[49m\u001b[43m,\u001b[49m\u001b[43m \u001b[49m\u001b[43msigma\u001b[49m\u001b[43m,\u001b[49m\u001b[43m \u001b[49m\u001b[43malpha\u001b[49m\u001b[43m)\u001b[49m\n",
      "File \u001b[0;32m~/Developer/skole/thesis_code/.venv/lib/python3.12/site-packages/opacus/accountants/analysis/rdp.py:182\u001b[0m, in \u001b[0;36m_compute_log_a_for_frac_alpha\u001b[0;34m(q, sigma, alpha)\u001b[0m\n\u001b[1;32m    179\u001b[0m log_s1 \u001b[38;5;241m=\u001b[39m log_t1 \u001b[38;5;241m+\u001b[39m (j \u001b[38;5;241m*\u001b[39m j \u001b[38;5;241m-\u001b[39m j) \u001b[38;5;241m/\u001b[39m (\u001b[38;5;241m2\u001b[39m \u001b[38;5;241m*\u001b[39m (sigma\u001b[38;5;241m*\u001b[39m\u001b[38;5;241m*\u001b[39m\u001b[38;5;241m2\u001b[39m)) \u001b[38;5;241m+\u001b[39m log_e1\n\u001b[1;32m    181\u001b[0m \u001b[38;5;28;01mif\u001b[39;00m coef \u001b[38;5;241m>\u001b[39m \u001b[38;5;241m0\u001b[39m:\n\u001b[0;32m--> 182\u001b[0m     log_a0 \u001b[38;5;241m=\u001b[39m \u001b[43m_log_add\u001b[49m\u001b[43m(\u001b[49m\u001b[43mlog_a0\u001b[49m\u001b[43m,\u001b[49m\u001b[43m \u001b[49m\u001b[43mlog_s0\u001b[49m\u001b[43m)\u001b[49m\n\u001b[1;32m    183\u001b[0m     log_a1 \u001b[38;5;241m=\u001b[39m _log_add(log_a1, log_s1)\n\u001b[1;32m    184\u001b[0m \u001b[38;5;28;01melse\u001b[39;00m:\n",
      "File \u001b[0;32m~/Developer/skole/thesis_code/.venv/lib/python3.12/site-packages/opacus/accountants/analysis/rdp.py:60\u001b[0m, in \u001b[0;36m_log_add\u001b[0;34m(logx, logy)\u001b[0m\n\u001b[1;32m     52\u001b[0m \u001b[38;5;28;01mfrom\u001b[39;00m \u001b[38;5;21;01mscipy\u001b[39;00m \u001b[38;5;28;01mimport\u001b[39;00m special\n\u001b[1;32m     55\u001b[0m \u001b[38;5;66;03m########################\u001b[39;00m\n\u001b[1;32m     56\u001b[0m \u001b[38;5;66;03m# LOG-SPACE ARITHMETIC #\u001b[39;00m\n\u001b[1;32m     57\u001b[0m \u001b[38;5;66;03m########################\u001b[39;00m\n\u001b[0;32m---> 60\u001b[0m \u001b[38;5;28;01mdef\u001b[39;00m \u001b[38;5;21m_log_add\u001b[39m(logx: \u001b[38;5;28mfloat\u001b[39m, logy: \u001b[38;5;28mfloat\u001b[39m) \u001b[38;5;241m-\u001b[39m\u001b[38;5;241m>\u001b[39m \u001b[38;5;28mfloat\u001b[39m:\n\u001b[1;32m     61\u001b[0m \u001b[38;5;250m    \u001b[39m\u001b[38;5;124mr\u001b[39m\u001b[38;5;124;03m\"\"\"Adds two numbers in the log space.\u001b[39;00m\n\u001b[1;32m     62\u001b[0m \n\u001b[1;32m     63\u001b[0m \u001b[38;5;124;03m    Args:\u001b[39;00m\n\u001b[0;32m   (...)\u001b[0m\n\u001b[1;32m     68\u001b[0m \u001b[38;5;124;03m        Sum of numbers in log space.\u001b[39;00m\n\u001b[1;32m     69\u001b[0m \u001b[38;5;124;03m    \"\"\"\u001b[39;00m\n\u001b[1;32m     70\u001b[0m     a, b \u001b[38;5;241m=\u001b[39m \u001b[38;5;28mmin\u001b[39m(logx, logy), \u001b[38;5;28mmax\u001b[39m(logx, logy)\n",
      "\u001b[0;31mKeyboardInterrupt\u001b[0m: "
     ]
    }
   ],
   "source": [
    "for delta, sigma, c in setups:\n",
    "    print(f\"Delta: {delta}, Sigma: {sigma}, C: {c}\")\n",
    "    n_steps = 0\n",
    "    accountant = RDPAccountant()\n",
    "    noise_multiplier = sigma * c\n",
    "\n",
    "    epsilon = accountant.get_epsilon(sample_rate, delta)\n",
    "    while epsilon < 2:\n",
    "        accountant.step(noise_multiplier=noise_multiplier, sample_rate=sample_rate)\n",
    "        epsilon = accountant.get_epsilon(delta)\n",
    "        n_steps += 1\n",
    "\n",
    "    parameter_info[\"delta\"].append(delta)\n",
    "    parameter_info[\"sigma\"].append(sigma)\n",
    "    parameter_info[\"c\"].append(c)\n",
    "    parameter_info[\"n_steps\"].append(n_steps)\n",
    "    parameter_info[\"epsilon\"].append(epsilon)\n",
    "\n",
    "    print(f\"Delta: {delta}, Sigma: {sigma}, C: {c}, Epsilon: {epsilon}, Steps: {n_steps}\")\n",
    "\n",
    "    while epsilon < 5:\n",
    "        accountant.step(noise_multiplier=noise_multiplier, sample_rate=sample_rate)\n",
    "        epsilon = accountant.get_epsilon(delta)\n",
    "        n_steps += 1\n",
    "\n",
    "    parameter_info[\"delta\"].append(delta)\n",
    "    parameter_info[\"sigma\"].append(sigma)\n",
    "    parameter_info[\"c\"].append(c)\n",
    "    parameter_info[\"n_steps\"].append(n_steps)\n",
    "\n",
    "    print(f\"Delta: {delta}, Sigma: {sigma}, C: {c}, Epsilon: {epsilon}, Steps: {n_steps}\")\n",
    "\n",
    "    while epsilon < 10:\n",
    "        accountant.step(noise_multiplier=noise_multiplier, sample_rate=sample_rate)\n",
    "        epsilon = accountant.get_epsilon(delta)\n",
    "        n_steps += 1\n",
    "\n",
    "    parameter_info[\"delta\"].append(delta)\n",
    "    parameter_info[\"sigma\"].append(sigma)\n",
    "    parameter_info[\"c\"].append(c)\n",
    "    parameter_info[\"n_steps\"].append(n_steps)\n",
    "    parameter_info[\"epsilon\"].append(epsilon)\n",
    "\n",
    "    print(f\"Delta: {delta}, Sigma: {sigma}, C: {c}, Epsilon: {epsilon}, Steps: {n_steps}\")"
   ]
  },
  {
   "cell_type": "code",
   "execution_count": null,
   "metadata": {},
   "outputs": [],
   "source": []
  }
 ],
 "metadata": {
  "kernelspec": {
   "display_name": ".venv",
   "language": "python",
   "name": "python3"
  },
  "language_info": {
   "codemirror_mode": {
    "name": "ipython",
    "version": 3
   },
   "file_extension": ".py",
   "mimetype": "text/x-python",
   "name": "python",
   "nbconvert_exporter": "python",
   "pygments_lexer": "ipython3",
   "version": "3.12.8"
  }
 },
 "nbformat": 4,
 "nbformat_minor": 2
}
