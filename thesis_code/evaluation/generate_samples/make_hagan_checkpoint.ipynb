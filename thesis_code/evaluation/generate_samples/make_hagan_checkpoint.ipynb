{
 "cells": [
  {
   "cell_type": "code",
   "execution_count": 1,
   "metadata": {},
   "outputs": [],
   "source": [
    "import torch\n",
    "import jax"
   ]
  },
  {
   "cell_type": "code",
   "execution_count": 2,
   "metadata": {},
   "outputs": [],
   "source": [
    "a = torch.load(\"/Users/rasmus/data/pretrained_models/my_models/last_l1.ckpt\", map_location=torch.device(\"cpu\"))\n",
    "b = torch.load(\"/Users/rasmus/data/pretrained_models/HAGAN/G_iter80000.pth\")"
   ]
  },
  {
   "cell_type": "code",
   "execution_count": 3,
   "metadata": {},
   "outputs": [
    {
     "data": {
      "text/plain": [
       "odict_keys(['G.fc1.weight', 'G.fc1.bias', 'G.tp_conv1.weight', 'G.tp_conv1.bias', 'G.bn1.weight', 'G.bn1.bias', 'G.tp_conv2.weight', 'G.tp_conv2.bias', 'G.bn2.weight', 'G.bn2.bias', 'G.tp_conv3.weight', 'G.tp_conv3.bias', 'G.bn3.weight', 'G.bn3.bias', 'G.tp_conv4.weight', 'G.tp_conv4.bias', 'G.bn4.weight', 'G.bn4.bias', 'G.tp_conv5.weight', 'G.tp_conv5.bias', 'G.bn5.weight', 'G.bn5.bias', 'G.tp_conv6.weight', 'G.tp_conv6.bias', 'G.bn6.weight', 'G.bn6.bias', 'G.tp_conv7.weight', 'G.tp_conv7.bias', 'G.sub_G.tp_conv1.weight', 'G.sub_G.tp_conv1.bias', 'G.sub_G.bn1.weight', 'G.sub_G.bn1.bias', 'G.sub_G.tp_conv2.weight', 'G.sub_G.tp_conv2.bias', 'G.sub_G.bn2.weight', 'G.sub_G.bn2.bias', 'G.sub_G.tp_conv3.weight', 'G.sub_G.tp_conv3.bias', 'D.conv1.weight', 'D.conv1.bias', 'D.conv1.u0', 'D.conv1.sv0', 'D.conv2.weight', 'D.conv2.bias', 'D.conv2.u0', 'D.conv2.sv0', 'D.conv3.weight', 'D.conv3.bias', 'D.conv3.u0', 'D.conv3.sv0', 'D.conv4.weight', 'D.conv4.bias', 'D.conv4.u0', 'D.conv4.sv0', 'D.conv5.weight', 'D.conv5.bias', 'D.conv5.u0', 'D.conv5.sv0', 'D.conv6.weight', 'D.conv6.bias', 'D.conv6.u0', 'D.conv6.sv0', 'D.conv7.weight', 'D.conv7.bias', 'D.conv7.u0', 'D.conv7.sv0', 'D.fc1.weight', 'D.fc1.bias', 'D.fc1.u0', 'D.fc1.sv0', 'D.fc2.weight', 'D.fc2.bias', 'D.fc2.u0', 'D.fc2.sv0', 'D.sub_D.conv1.weight', 'D.sub_D.conv1.bias', 'D.sub_D.conv1.u0', 'D.sub_D.conv1.sv0', 'D.sub_D.conv2.weight', 'D.sub_D.conv2.bias', 'D.sub_D.conv2.u0', 'D.sub_D.conv2.sv0', 'D.sub_D.conv3.weight', 'D.sub_D.conv3.bias', 'D.sub_D.conv3.u0', 'D.sub_D.conv3.sv0', 'D.sub_D.conv4.weight', 'D.sub_D.conv4.bias', 'D.sub_D.conv4.u0', 'D.sub_D.conv4.sv0', 'D.sub_D.conv5.weight', 'D.sub_D.conv5.bias', 'D.sub_D.conv5.u0', 'D.sub_D.conv5.sv0', 'E.conv1.weight', 'E.conv1.bias', 'E.bn1.weight', 'E.bn1.bias', 'E.conv2.weight', 'E.conv2.bias', 'E.bn2.weight', 'E.bn2.bias', 'E.conv3.weight', 'E.conv3.bias', 'E.bn3.weight', 'E.bn3.bias', 'Sub_E.conv1.weight', 'Sub_E.conv1.bias', 'Sub_E.bn1.weight', 'Sub_E.bn1.bias', 'Sub_E.conv2.weight', 'Sub_E.conv2.bias', 'Sub_E.bn2.weight', 'Sub_E.bn2.bias', 'Sub_E.conv3.weight', 'Sub_E.conv3.bias', 'Sub_E.bn3.weight', 'Sub_E.bn3.bias', 'Sub_E.conv4.weight', 'Sub_E.conv4.bias', 'Sub_E.bn4.weight', 'Sub_E.bn4.bias', 'Sub_E.conv5.weight', 'Sub_E.conv5.bias'])"
      ]
     },
     "execution_count": 3,
     "metadata": {},
     "output_type": "execute_result"
    }
   ],
   "source": [
    "a[\"state_dict\"].keys()"
   ]
  },
  {
   "cell_type": "code",
   "execution_count": 4,
   "metadata": {},
   "outputs": [],
   "source": [
    "def tree_key_map(f, tree):\n",
    "    if isinstance(tree, dict):\n",
    "        return {f(k): tree_key_map(f, v) for k, v in tree.items()}\n",
    "    elif isinstance(tree, list):\n",
    "        return [tree_key_map(f, v) for v in tree]\n",
    "    else:\n",
    "        return tree\n",
    "\n",
    "tree_map = jax.tree.map"
   ]
  },
  {
   "cell_type": "code",
   "execution_count": 5,
   "metadata": {},
   "outputs": [],
   "source": [
    "# tree_map(lambda x: x.shape, b)\n",
    "b_fixed = tree_key_map(lambda x: \"G.\" + x.replace(\"module.\", \"\"), b[\"model\"])"
   ]
  },
  {
   "cell_type": "code",
   "execution_count": 6,
   "metadata": {},
   "outputs": [],
   "source": [
    "# dict(tree_map(lambda x: x.size(), a))"
   ]
  },
  {
   "cell_type": "code",
   "execution_count": 7,
   "metadata": {},
   "outputs": [],
   "source": [
    "for k, v in b_fixed.items():\n",
    "    if k in a[\"state_dict\"]:\n",
    "        a[\"state_dict\"][k] = v\n",
    "    else:\n",
    "        raise ValueError(f\"Key {k} not found in a\")"
   ]
  },
  {
   "cell_type": "code",
   "execution_count": 8,
   "metadata": {},
   "outputs": [],
   "source": [
    "torch.save(a, \"/Users/rasmus/data/pretrained_models/my_models/HAGAN_from_authors.ckpt\")"
   ]
  },
  {
   "cell_type": "markdown",
   "metadata": {},
   "source": [
    "## Test it out"
   ]
  },
  {
   "cell_type": "code",
   "execution_count": null,
   "metadata": {},
   "outputs": [],
   "source": []
  },
  {
   "cell_type": "code",
   "execution_count": null,
   "metadata": {},
   "outputs": [],
   "source": []
  }
 ],
 "metadata": {
  "kernelspec": {
   "display_name": ".venv",
   "language": "python",
   "name": "python3"
  },
  "language_info": {
   "codemirror_mode": {
    "name": "ipython",
    "version": 3
   },
   "file_extension": ".py",
   "mimetype": "text/x-python",
   "name": "python",
   "nbconvert_exporter": "python",
   "pygments_lexer": "ipython3",
   "version": "3.12.7"
  }
 },
 "nbformat": 4,
 "nbformat_minor": 2
}
