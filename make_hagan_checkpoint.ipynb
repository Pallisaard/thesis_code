{
 "cells": [
  {
   "cell_type": "code",
   "execution_count": 1,
   "metadata": {},
   "outputs": [
    {
     "name": "stderr",
     "output_type": "stream",
     "text": [
      "/Users/rasmuspallisgaard/Developer/skole/thesis_code/.venv/lib/python3.12/site-packages/tqdm/auto.py:21: TqdmWarning: IProgress not found. Please update jupyter and ipywidgets. See https://ipywidgets.readthedocs.io/en/stable/user_install.html\n",
      "  from .autonotebook import tqdm as notebook_tqdm\n"
     ]
    }
   ],
   "source": [
    "import torch\n",
    "from thesis_code.models.gans import LitHAGAN"
   ]
  },
  {
   "cell_type": "code",
   "execution_count": 2,
   "metadata": {},
   "outputs": [],
   "source": [
    "def tree_key_map(f, tree):\n",
    "    if isinstance(tree, dict):\n",
    "        return {f(k): tree_key_map(f, v) for k, v in tree.items()}\n",
    "    elif isinstance(tree, list):\n",
    "        return [tree_key_map(f, v) for v in tree]\n",
    "    else:\n",
    "        return tree"
   ]
  },
  {
   "cell_type": "code",
   "execution_count": 3,
   "metadata": {},
   "outputs": [],
   "source": [
    "model = torch.load(\"/Users/rasmuspallisgaard/Downloads/results/pretraining/models/hagan-l5-1-no-zerosliced.ckpt\", map_location=\"cpu\")\n",
    "author_generator = torch.load(\"/Users/rasmuspallisgaard/Downloads/GSP_HA_GAN_pretrained/G_iter80000.pth\")"
   ]
  },
  {
   "cell_type": "code",
   "execution_count": 4,
   "metadata": {},
   "outputs": [
    {
     "data": {
      "text/plain": [
       "odict_keys(['G.fc1.weight', 'G.fc1.bias', 'G.tp_conv1.weight', 'G.tp_conv1.bias', 'G.bn1.weight', 'G.bn1.bias', 'G.tp_conv2.weight', 'G.tp_conv2.bias', 'G.bn2.weight', 'G.bn2.bias', 'G.tp_conv3.weight', 'G.tp_conv3.bias', 'G.bn3.weight', 'G.bn3.bias', 'G.tp_conv4.weight', 'G.tp_conv4.bias', 'G.bn4.weight', 'G.bn4.bias', 'G.tp_conv5.weight', 'G.tp_conv5.bias', 'G.bn5.weight', 'G.bn5.bias', 'G.tp_conv6.weight', 'G.tp_conv6.bias', 'G.bn6.weight', 'G.bn6.bias', 'G.tp_conv7.weight', 'G.tp_conv7.bias', 'G.sub_G.tp_conv1.weight', 'G.sub_G.tp_conv1.bias', 'G.sub_G.bn1.weight', 'G.sub_G.bn1.bias', 'G.sub_G.tp_conv2.weight', 'G.sub_G.tp_conv2.bias', 'G.sub_G.bn2.weight', 'G.sub_G.bn2.bias', 'G.sub_G.tp_conv3.weight', 'G.sub_G.tp_conv3.bias', 'D.conv1.weight', 'D.conv1.bias', 'D.conv1.u', 'D.conv1.v', 'D.conv2.weight', 'D.conv2.bias', 'D.conv2.u', 'D.conv2.v', 'D.conv3.weight', 'D.conv3.bias', 'D.conv3.u', 'D.conv3.v', 'D.conv4.weight', 'D.conv4.bias', 'D.conv4.u', 'D.conv4.v', 'D.conv5.weight', 'D.conv5.bias', 'D.conv5.u', 'D.conv5.v', 'D.conv6.weight', 'D.conv6.bias', 'D.conv6.u', 'D.conv6.v', 'D.conv7.weight', 'D.conv7.bias', 'D.conv7.u', 'D.conv7.v', 'D.fc1.weight', 'D.fc1.bias', 'D.fc1.u', 'D.fc1.v', 'D.fc2.weight', 'D.fc2.bias', 'D.fc2.u', 'D.fc2.v', 'D.sub_D.conv1.weight', 'D.sub_D.conv1.bias', 'D.sub_D.conv1.u', 'D.sub_D.conv1.v', 'D.sub_D.conv2.weight', 'D.sub_D.conv2.bias', 'D.sub_D.conv2.u', 'D.sub_D.conv2.v', 'D.sub_D.conv3.weight', 'D.sub_D.conv3.bias', 'D.sub_D.conv3.u', 'D.sub_D.conv3.v', 'D.sub_D.conv4.weight', 'D.sub_D.conv4.bias', 'D.sub_D.conv4.u', 'D.sub_D.conv4.v', 'D.sub_D.conv5.weight', 'D.sub_D.conv5.bias', 'D.sub_D.conv5.u', 'D.sub_D.conv5.v', 'E.conv1.weight', 'E.conv1.bias', 'E.bn1.weight', 'E.bn1.bias', 'E.conv2.weight', 'E.conv2.bias', 'E.bn2.weight', 'E.bn2.bias', 'E.conv3.weight', 'E.conv3.bias', 'E.bn3.weight', 'E.bn3.bias', 'Sub_E.conv1.weight', 'Sub_E.conv1.bias', 'Sub_E.bn1.weight', 'Sub_E.bn1.bias', 'Sub_E.conv2.weight', 'Sub_E.conv2.bias', 'Sub_E.bn2.weight', 'Sub_E.bn2.bias', 'Sub_E.conv3.weight', 'Sub_E.conv3.bias', 'Sub_E.bn3.weight', 'Sub_E.bn3.bias', 'Sub_E.conv4.weight', 'Sub_E.conv4.bias', 'Sub_E.bn4.weight', 'Sub_E.bn4.bias', 'Sub_E.conv5.weight', 'Sub_E.conv5.bias'])"
      ]
     },
     "execution_count": 4,
     "metadata": {},
     "output_type": "execute_result"
    }
   ],
   "source": [
    "model[\"state_dict\"].keys()"
   ]
  },
  {
   "cell_type": "code",
   "execution_count": 5,
   "metadata": {},
   "outputs": [
    {
     "data": {
      "text/plain": [
       "dict_keys(['G.fc1.weight', 'G.fc1.bias', 'G.tp_conv1.weight', 'G.tp_conv1.bias', 'G.bn1.weight', 'G.bn1.bias', 'G.tp_conv2.weight', 'G.tp_conv2.bias', 'G.bn2.weight', 'G.bn2.bias', 'G.tp_conv3.weight', 'G.tp_conv3.bias', 'G.bn3.weight', 'G.bn3.bias', 'G.tp_conv4.weight', 'G.tp_conv4.bias', 'G.bn4.weight', 'G.bn4.bias', 'G.tp_conv5.weight', 'G.tp_conv5.bias', 'G.bn5.weight', 'G.bn5.bias', 'G.tp_conv6.weight', 'G.tp_conv6.bias', 'G.bn6.weight', 'G.bn6.bias', 'G.tp_conv7.weight', 'G.tp_conv7.bias', 'G.sub_G.tp_conv1.weight', 'G.sub_G.tp_conv1.bias', 'G.sub_G.bn1.weight', 'G.sub_G.bn1.bias', 'G.sub_G.tp_conv2.weight', 'G.sub_G.tp_conv2.bias', 'G.sub_G.bn2.weight', 'G.sub_G.bn2.bias', 'G.sub_G.tp_conv3.weight', 'G.sub_G.tp_conv3.bias'])"
      ]
     },
     "execution_count": 5,
     "metadata": {},
     "output_type": "execute_result"
    }
   ],
   "source": [
    "def fix_key(key):\n",
    "    if key.startswith(\"module.sub_G.\"):\n",
    "        return \"G.sub_G.\" + key[len(\"module.sub_G.\"):]\n",
    "    elif key.startswith(\"module.\"):\n",
    "        return \"G.\" + key[len(\"module.\"):]\n",
    "    return key\n",
    "\n",
    "author_generator_fixed = tree_key_map(fix_key, author_generator[\"model\"])\n",
    "# jax.tree.map(lambda x: x.shape, author_generator_fixed)\n",
    "author_generator_fixed.keys()"
   ]
  },
  {
   "cell_type": "code",
   "execution_count": 6,
   "metadata": {},
   "outputs": [],
   "source": [
    "for k, v in author_generator_fixed.items():\n",
    "    if k in model[\"state_dict\"]:\n",
    "        model[\"state_dict\"][k] = v\n",
    "    else:\n",
    "        raise ValueError(f\"Key {k} not found in model state dict\")\n",
    "# torch.save(model, \"/Users/rasmuspallisgaard/Downloads/hagan-from-authors.ckpt\")"
   ]
  },
  {
   "cell_type": "code",
   "execution_count": 7,
   "metadata": {},
   "outputs": [],
   "source": [
    "# Create new state dict with renamed keys\n",
    "new_state_dict = {}\n",
    "for key, value in model[\"state_dict\"].items():\n",
    "    if key.endswith(\".u\"):\n",
    "        new_key = key[:-2] + \".u0\" \n",
    "    elif key.endswith(\".v\"):\n",
    "        new_key = key[:-2] + \".sv0\"\n",
    "    else:\n",
    "        new_key = key\n",
    "    new_state_dict[new_key] = value\n",
    "\n",
    "# Update model state dict with renamed keys\n",
    "# model[\"state_dict\"] = new_state_dict"
   ]
  },
  {
   "cell_type": "code",
   "execution_count": 8,
   "metadata": {},
   "outputs": [
    {
     "data": {
      "text/plain": [
       "odict_keys(['G.fc1.weight', 'G.fc1.bias', 'G.tp_conv1.weight', 'G.tp_conv1.bias', 'G.bn1.weight', 'G.bn1.bias', 'G.tp_conv2.weight', 'G.tp_conv2.bias', 'G.bn2.weight', 'G.bn2.bias', 'G.tp_conv3.weight', 'G.tp_conv3.bias', 'G.bn3.weight', 'G.bn3.bias', 'G.tp_conv4.weight', 'G.tp_conv4.bias', 'G.bn4.weight', 'G.bn4.bias', 'G.tp_conv5.weight', 'G.tp_conv5.bias', 'G.bn5.weight', 'G.bn5.bias', 'G.tp_conv6.weight', 'G.tp_conv6.bias', 'G.bn6.weight', 'G.bn6.bias', 'G.tp_conv7.weight', 'G.tp_conv7.bias', 'G.sub_G.tp_conv1.weight', 'G.sub_G.tp_conv1.bias', 'G.sub_G.bn1.weight', 'G.sub_G.bn1.bias', 'G.sub_G.tp_conv2.weight', 'G.sub_G.tp_conv2.bias', 'G.sub_G.bn2.weight', 'G.sub_G.bn2.bias', 'G.sub_G.tp_conv3.weight', 'G.sub_G.tp_conv3.bias', 'D.conv1.weight', 'D.conv1.bias', 'D.conv1.u', 'D.conv1.v', 'D.conv2.weight', 'D.conv2.bias', 'D.conv2.u', 'D.conv2.v', 'D.conv3.weight', 'D.conv3.bias', 'D.conv3.u', 'D.conv3.v', 'D.conv4.weight', 'D.conv4.bias', 'D.conv4.u', 'D.conv4.v', 'D.conv5.weight', 'D.conv5.bias', 'D.conv5.u', 'D.conv5.v', 'D.conv6.weight', 'D.conv6.bias', 'D.conv6.u', 'D.conv6.v', 'D.conv7.weight', 'D.conv7.bias', 'D.conv7.u', 'D.conv7.v', 'D.fc1.weight', 'D.fc1.bias', 'D.fc1.u', 'D.fc1.v', 'D.fc2.weight', 'D.fc2.bias', 'D.fc2.u', 'D.fc2.v', 'D.sub_D.conv1.weight', 'D.sub_D.conv1.bias', 'D.sub_D.conv1.u', 'D.sub_D.conv1.v', 'D.sub_D.conv2.weight', 'D.sub_D.conv2.bias', 'D.sub_D.conv2.u', 'D.sub_D.conv2.v', 'D.sub_D.conv3.weight', 'D.sub_D.conv3.bias', 'D.sub_D.conv3.u', 'D.sub_D.conv3.v', 'D.sub_D.conv4.weight', 'D.sub_D.conv4.bias', 'D.sub_D.conv4.u', 'D.sub_D.conv4.v', 'D.sub_D.conv5.weight', 'D.sub_D.conv5.bias', 'D.sub_D.conv5.u', 'D.sub_D.conv5.v', 'E.conv1.weight', 'E.conv1.bias', 'E.bn1.weight', 'E.bn1.bias', 'E.conv2.weight', 'E.conv2.bias', 'E.bn2.weight', 'E.bn2.bias', 'E.conv3.weight', 'E.conv3.bias', 'E.bn3.weight', 'E.bn3.bias', 'Sub_E.conv1.weight', 'Sub_E.conv1.bias', 'Sub_E.bn1.weight', 'Sub_E.bn1.bias', 'Sub_E.conv2.weight', 'Sub_E.conv2.bias', 'Sub_E.bn2.weight', 'Sub_E.bn2.bias', 'Sub_E.conv3.weight', 'Sub_E.conv3.bias', 'Sub_E.bn3.weight', 'Sub_E.bn3.bias', 'Sub_E.conv4.weight', 'Sub_E.conv4.bias', 'Sub_E.bn4.weight', 'Sub_E.bn4.bias', 'Sub_E.conv5.weight', 'Sub_E.conv5.bias'])"
      ]
     },
     "execution_count": 8,
     "metadata": {},
     "output_type": "execute_result"
    }
   ],
   "source": [
    "model[\"state_dict\"].keys()"
   ]
  },
  {
   "cell_type": "code",
   "execution_count": 9,
   "metadata": {},
   "outputs": [],
   "source": [
    "torch.save(model, \"/Users/rasmuspallisgaard/Downloads/hagan-from-authors.ckpt\")"
   ]
  },
  {
   "cell_type": "markdown",
   "metadata": {},
   "source": [
    "## Test it out"
   ]
  },
  {
   "cell_type": "code",
   "execution_count": 10,
   "metadata": {},
   "outputs": [],
   "source": [
    "test_model = LitHAGAN.load_from_checkpoint(\"/Users/rasmuspallisgaard/Downloads/hagan-from-authors.ckpt\", latent_dim=1024, lambda_1=5, lambda_2=5, use_dp_safe=True)"
   ]
  },
  {
   "cell_type": "code",
   "execution_count": 11,
   "metadata": {},
   "outputs": [],
   "source": [
    "author_discriminator = torch.load(\"/Users/rasmuspallisgaard/Downloads/GSP_HA_GAN_pretrained/D_iter80000.pth\")"
   ]
  },
  {
   "cell_type": "code",
   "execution_count": 12,
   "metadata": {},
   "outputs": [
    {
     "data": {
      "text/plain": [
       "odict_keys(['module.conv1.weight', 'module.conv1.bias', 'module.conv1.u0', 'module.conv1.sv0', 'module.conv2.weight', 'module.conv2.bias', 'module.conv2.u0', 'module.conv2.sv0', 'module.conv3.weight', 'module.conv3.bias', 'module.conv3.u0', 'module.conv3.sv0', 'module.conv4.weight', 'module.conv4.bias', 'module.conv4.u0', 'module.conv4.sv0', 'module.conv5.weight', 'module.conv5.bias', 'module.conv5.u0', 'module.conv5.sv0', 'module.conv6.weight', 'module.conv6.bias', 'module.conv6.u0', 'module.conv6.sv0', 'module.conv7.weight', 'module.conv7.bias', 'module.conv7.u0', 'module.conv7.sv0', 'module.fc1.weight', 'module.fc1.bias', 'module.fc1.u0', 'module.fc1.sv0', 'module.fc2.weight', 'module.fc2.bias', 'module.fc2.u0', 'module.fc2.sv0', 'module.sub_D.conv1.weight', 'module.sub_D.conv1.bias', 'module.sub_D.conv1.u0', 'module.sub_D.conv1.sv0', 'module.sub_D.conv2.weight', 'module.sub_D.conv2.bias', 'module.sub_D.conv2.u0', 'module.sub_D.conv2.sv0', 'module.sub_D.conv3.weight', 'module.sub_D.conv3.bias', 'module.sub_D.conv3.u0', 'module.sub_D.conv3.sv0', 'module.sub_D.conv4.weight', 'module.sub_D.conv4.bias', 'module.sub_D.conv4.u0', 'module.sub_D.conv4.sv0', 'module.sub_D.conv5.weight', 'module.sub_D.conv5.bias', 'module.sub_D.conv5.u0', 'module.sub_D.conv5.sv0'])"
      ]
     },
     "execution_count": 12,
     "metadata": {},
     "output_type": "execute_result"
    }
   ],
   "source": [
    "author_discriminator[\"model\"].keys()"
   ]
  },
  {
   "cell_type": "code",
   "execution_count": null,
   "metadata": {},
   "outputs": [],
   "source": []
  }
 ],
 "metadata": {
  "kernelspec": {
   "display_name": ".venv",
   "language": "python",
   "name": "python3"
  },
  "language_info": {
   "codemirror_mode": {
    "name": "ipython",
    "version": 3
   },
   "file_extension": ".py",
   "mimetype": "text/x-python",
   "name": "python",
   "nbconvert_exporter": "python",
   "pygments_lexer": "ipython3",
   "version": "3.12.8"
  }
 },
 "nbformat": 4,
 "nbformat_minor": 2
}
